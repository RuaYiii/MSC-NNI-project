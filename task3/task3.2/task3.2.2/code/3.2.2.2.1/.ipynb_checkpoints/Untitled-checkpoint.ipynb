{
 "cells": [
  {
   "cell_type": "code",
   "execution_count": 1,
   "metadata": {},
   "outputs": [],
   "source": [
    "import pandas as pd\n",
    "import numpy as np\n",
    "import itertools\n",
    "import xgboost as xgb"
   ]
  },
  {
   "cell_type": "code",
   "execution_count": 9,
   "metadata": {},
   "outputs": [],
   "source": [
    "train_data = pd.read_csv('./data/sales_train.csv')\n",
    "test_data = pd.read_csv('./data/test.csv')\n",
    "item_data = pd.read_csv('./data/items.csv')"
   ]
  },
  {
   "cell_type": "code",
   "execution_count": 3,
   "metadata": {},
   "outputs": [],
   "source": [
    "#将训练数据中的按天销量改为按月销量\n",
    "train_data = train_data.drop(train_data[train_data.item_price < 0].index | train_data[train_data.item_price >= 100000].index)\n",
    "train_data = train_data.drop(train_data[train_data.item_cnt_day < 0].index | train_data[train_data.item_cnt_day >= 1000].index)\n",
    "\n",
    "train_data1 = pd.pivot_table(train_data, index=['shop_id','item_id','date_block_num'], values=['item_cnt_day'], aggfunc=[np.sum],fill_value=0).reset_index();\n",
    "train_data1.columns = train_data1.columns.droplevel().map(str)\n",
    "train_data1 = train_data1.reset_index(drop=True).rename_axis(None, axis=1)\n",
    "train_data1.columns.values[0]=\"shop_id\";\n",
    "train_data1.columns.values[1]=\"item_id\";\n",
    "train_data1.columns.values[2]=\"month_id\";\n",
    "train_data1.columns.values[3]=\"item_cnt_month\";"
   ]
  },
  {
   "cell_type": "code",
   "execution_count": 4,
   "metadata": {},
   "outputs": [
    {
     "name": "stdout",
     "output_type": "stream",
     "text": [
      "         shop_id  item_id  month_id  item_cnt_month\n",
      "0              0       30         1              31\n",
      "1              0       31         1              11\n",
      "2              0       32         0               6\n",
      "3              0       32         1              10\n",
      "4              0       33         0               3\n",
      "...          ...      ...       ...             ...\n",
      "1608219       59    22164        27               2\n",
      "1608220       59    22164        30               1\n",
      "1608221       59    22167         9               1\n",
      "1608222       59    22167        11               2\n",
      "1608223       59    22167        17               1\n",
      "\n",
      "[1608224 rows x 4 columns]\n"
     ]
    }
   ],
   "source": [
    "print(train_data1)"
   ]
  },
  {
   "cell_type": "code",
   "execution_count": 5,
   "metadata": {},
   "outputs": [
    {
     "name": "stdout",
     "output_type": "stream",
     "text": [
      "<class 'pandas.core.frame.DataFrame'>\n",
      "Int64Index: 10884508 entries, 139168 to 10741223\n",
      "Data columns (total 3 columns):\n",
      " #   Column    Dtype\n",
      "---  ------    -----\n",
      " 0   month_id  int8 \n",
      " 1   shop_id   int8 \n",
      " 2   item_id   int16\n",
      "dtypes: int16(1), int8(2)\n",
      "memory usage: 124.6 MB\n",
      "None\n",
      "<class 'pandas.core.frame.DataFrame'>\n",
      "Int64Index: 10884508 entries, 0 to 10884507\n",
      "Data columns (total 5 columns):\n",
      " #   Column          Dtype  \n",
      "---  ------          -----  \n",
      " 0   month_id        int8   \n",
      " 1   shop_id         int8   \n",
      " 2   item_id         int16  \n",
      " 3   item_cnt_month  float16\n",
      " 4   month_id1       int8   \n",
      "dtypes: float16(1), int16(1), int8(3)\n",
      "memory usage: 155.7 MB\n",
      "None\n"
     ]
    }
   ],
   "source": [
    "#数据增强\n",
    "#但是如果商店该月没有销售该商品，则上面的数据中则没有该条数据。而实际上这时候该商店该月该商品的销售量应该等于0，这样更能体现商品、商店、销量的关系\n",
    "matrix = []\n",
    "cols = ['month_id','shop_id','item_id']\n",
    "for i in range(34):\n",
    "    sales = train_data[train_data.date_block_num==i]\n",
    "    matrix.append(np.array(list(itertools.product([i], sales.shop_id.unique(), sales.item_id.unique())), dtype='int16'))\n",
    "matrix = pd.DataFrame(np.vstack(matrix), columns=cols)\n",
    "matrix['month_id'] = matrix['month_id'].astype(np.int8)\n",
    "matrix['shop_id'] = matrix['shop_id'].astype(np.int8)\n",
    "matrix['item_id'] = matrix['item_id'].astype(np.int16)\n",
    "matrix.sort_values(cols, inplace=True)\n",
    "print(matrix.info())\n",
    "\n",
    "train_data1 = pd.pivot_table(train_data, index=['shop_id','item_id','date_block_num'], values=['item_cnt_day'], aggfunc=[np.sum],\n",
    "fill_value=0).reset_index();\n",
    "train_data1.columns = train_data1.columns.droplevel().map(str)\n",
    "train_data1 = train_data1.reset_index(drop=True).rename_axis(None, axis=1)\n",
    "train_data1.columns.values[0]=\"shop_id\";\n",
    "train_data1.columns.values[1]=\"item_id\";\n",
    "train_data1.columns.values[2]=\"month_id\";\n",
    "train_data1.columns.values[3]=\"item_cnt_month\";\n",
    "\n",
    "#合并matrix和train_data1数据\n",
    "train_data1 = pd.merge(matrix, train_data1, on=[\"shop_id\", \"item_id\", \"month_id\"], how='left')\n",
    "train_data1['item_cnt_month'] = (train_data1['item_cnt_month'].fillna(0).astype(np.float16))\n",
    "train_data1[\"month_id1\"] = train_data1[\"month_id\"] % 12;\n",
    "print(train_data1.info())"
   ]
  },
  {
   "cell_type": "code",
   "execution_count": 6,
   "metadata": {},
   "outputs": [],
   "source": [
    "#限定销量在20以内\n",
    "train_data1['item_cnt_month'] = (train_data1['item_cnt_month'].fillna(0).clip(0,20).astype(np.float16))"
   ]
  },
  {
   "cell_type": "code",
   "execution_count": 10,
   "metadata": {},
   "outputs": [],
   "source": [
    "#增加其他特征\n",
    "train_data2 = pd.pivot_table(train_data, index=['shop_id','item_id','date_block_num'], values=['item_cnt_day'], aggfunc=[np.sum],fill_value=0).reset_index();\n",
    "train_data2.columns = train_data2.columns.droplevel().map(str)\n",
    "train_data2 = train_data2.reset_index(drop=True).rename_axis(None, axis=1)\n",
    "train_data2.columns.values[0]=\"shop_id\";\n",
    "train_data2.columns.values[1]=\"item_id\";\n",
    "train_data2.columns.values[2]=\"month_id\";\n",
    "train_data2.columns.values[3]=\"item_cnt_month1\";\n",
    "train_data2[\"month_id\"] = train_data2[\"month_id\"] + 1;\n",
    "\n",
    "item_price1 = pd.pivot_table(train_data, index=['item_id','date_block_num'], values=['item_price'], aggfunc=[np.mean], fill_value=0).reset_index();\n",
    "item_price1.columns = item_price1.columns.droplevel().map(str)\n",
    "item_price1 = item_price1.reset_index(drop=True).rename_axis(None, axis=1)\n",
    "item_price1.columns.values[0]=\"item_id\";\n",
    "item_price1.columns.values[1]=\"month_id\";\n",
    "item_price1.columns.values[2]=\"item_mean_price1\";\n",
    "item_price1[\"month_id\"] = item_price1[\"month_id\"] + 1;\n",
    "\n",
    "shop_cnt = pd.pivot_table(train_data1, index=['shop_id','month_id'], values=['item_cnt_month'], aggfunc=[np.mean], fill_value=0).reset_index();\n",
    "shop_cnt.columns = shop_cnt.columns.droplevel().map(str)\n",
    "shop_cnt = shop_cnt.reset_index(drop=True).rename_axis(None, axis=1)\n",
    "shop_cnt.columns.values[0]=\"shop_id\";\n",
    "shop_cnt.columns.values[1]=\"month_id\";\n",
    "shop_cnt.columns.values[2]=\"shop_cnt_month1\";\n",
    "shop_cnt[\"month_id\"] = shop_cnt[\"month_id\"] + 1;\n",
    "\n",
    "item_cnt = pd.pivot_table(train_data1, index=['item_id','month_id'], values=['item_cnt_month'], aggfunc=[np.mean], fill_value=0).reset_index();\n",
    "item_cnt.columns = item_cnt.columns.droplevel().map(str)\n",
    "item_cnt = item_cnt.reset_index(drop=True).rename_axis(None, axis=1)\n",
    "item_cnt.columns.values[0]=\"item_id\";\n",
    "item_cnt.columns.values[1]=\"month_id\";\n",
    "item_cnt.columns.values[2]=\"item_total_month1\";\n",
    "item_cnt[\"month_id\"] = item_cnt[\"month_id\"] + 1;\n",
    "\n",
    "\n",
    "combined_data = train_data1.append(test_data);\n",
    "#合并上述的五个特征到训练集中\n",
    "combined_data = pd.merge(combined_data, train_data2, on = ['shop_id', 'item_id','month_id'], how = 'left')\n",
    "combined_data[\"item_cnt_month1\"].fillna(0, inplace=True)\n",
    "\n",
    "combined_data = pd.merge(combined_data, item_price1, on = ['item_id','month_id'], how = 'left')\n",
    "combined_data[\"item_mean_price1\"].fillna(0, inplace=True)\n",
    "\n",
    "combined_data = pd.merge(combined_data, shop_cnt, on = ['shop_id','month_id'], how = 'left')\n",
    "combined_data[\"shop_cnt_month1\"].fillna(0, inplace=True)\n",
    "\n",
    "combined_data = pd.merge(combined_data, item_cnt, on = ['item_id', 'month_id'], how = 'left')\n",
    "combined_data[\"item_total_month1\"].fillna(0, inplace=True)\n",
    "\n",
    "combined_data = pd.merge(combined_data, item_data, on = ['item_id'], how = 'left')\n",
    "combined_data[\"item_category_id\"].fillna(0, inplace=True)"
   ]
  },
  {
   "cell_type": "code",
   "execution_count": 11,
   "metadata": {},
   "outputs": [
    {
     "name": "stdout",
     "output_type": "stream",
     "text": [
      "<class 'pandas.core.frame.DataFrame'>\n",
      "Int64Index: 11098708 entries, 0 to 11098707\n",
      "Data columns (total 12 columns):\n",
      " #   Column             Dtype  \n",
      "---  ------             -----  \n",
      " 0   month_id           float64\n",
      " 1   shop_id            int64  \n",
      " 2   item_id            int64  \n",
      " 3   item_cnt_month     float16\n",
      " 4   month_id1          float64\n",
      " 5   ID                 float64\n",
      " 6   item_cnt_month1    float64\n",
      " 7   item_mean_price1   float64\n",
      " 8   shop_cnt_month1    float16\n",
      " 9   item_total_month1  float16\n",
      " 10  item_name          object \n",
      " 11  item_category_id   int64  \n",
      "dtypes: float16(3), float64(5), int64(3), object(1)\n",
      "memory usage: 910.3+ MB\n",
      "None\n"
     ]
    }
   ],
   "source": [
    "print(combined_data.info())"
   ]
  },
  {
   "cell_type": "code",
   "execution_count": 11,
   "metadata": {},
   "outputs": [
    {
     "ename": "NameError",
     "evalue": "name 'X_train' is not defined",
     "output_type": "error",
     "traceback": [
      "\u001b[1;31m---------------------------------------------------------------------------\u001b[0m",
      "\u001b[1;31mNameError\u001b[0m                                 Traceback (most recent call last)",
      "\u001b[1;32m<ipython-input-11-de76d1285034>\u001b[0m in \u001b[0;36m<module>\u001b[1;34m\u001b[0m\n\u001b[0;32m      1\u001b[0m \u001b[1;31m#模型训练\u001b[0m\u001b[1;33m\u001b[0m\u001b[1;33m\u001b[0m\u001b[1;33m\u001b[0m\u001b[0m\n\u001b[0;32m      2\u001b[0m \u001b[0mmodel\u001b[0m \u001b[1;33m=\u001b[0m \u001b[0mxgb\u001b[0m\u001b[1;33m.\u001b[0m\u001b[0mXGBRegressor\u001b[0m\u001b[1;33m(\u001b[0m\u001b[0mmax_depth\u001b[0m\u001b[1;33m=\u001b[0m\u001b[1;36m4\u001b[0m\u001b[1;33m,\u001b[0m \u001b[0mcolsample_btree\u001b[0m\u001b[1;33m=\u001b[0m\u001b[1;36m0.1\u001b[0m\u001b[1;33m,\u001b[0m \u001b[0mlearning_rate\u001b[0m\u001b[1;33m=\u001b[0m\u001b[1;36m0.1\u001b[0m\u001b[1;33m,\u001b[0m \u001b[0mn_estimators\u001b[0m\u001b[1;33m=\u001b[0m\u001b[1;36m32\u001b[0m\u001b[1;33m,\u001b[0m \u001b[0mmin_child_weight\u001b[0m\u001b[1;33m=\u001b[0m\u001b[1;36m2\u001b[0m\u001b[1;33m)\u001b[0m\u001b[1;33m;\u001b[0m\u001b[1;33m\u001b[0m\u001b[1;33m\u001b[0m\u001b[0m\n\u001b[1;32m----> 3\u001b[1;33m \u001b[0mmodel\u001b[0m\u001b[1;33m.\u001b[0m\u001b[0mfit\u001b[0m\u001b[1;33m(\u001b[0m\u001b[0mX_train\u001b[0m\u001b[1;33m,\u001b[0m \u001b[0my_train\u001b[0m\u001b[1;33m)\u001b[0m\u001b[1;33m\u001b[0m\u001b[1;33m\u001b[0m\u001b[0m\n\u001b[0m",
      "\u001b[1;31mNameError\u001b[0m: name 'X_train' is not defined"
     ]
    }
   ],
   "source": [
    "#模型训练\n",
    "model = xgb.XGBRegressor(max_depth=4, colsample_btree=0.1, learning_rate=0.1, n_estimators=32, min_child_weight=2);\n",
    "model.fit(X_train, y_train)"
   ]
  },
  {
   "cell_type": "code",
   "execution_count": null,
   "metadata": {},
   "outputs": [],
   "source": []
  }
 ],
 "metadata": {
  "kernelspec": {
   "display_name": "Python 3",
   "language": "python",
   "name": "python3"
  },
  "language_info": {
   "codemirror_mode": {
    "name": "ipython",
    "version": 3
   },
   "file_extension": ".py",
   "mimetype": "text/x-python",
   "name": "python",
   "nbconvert_exporter": "python",
   "pygments_lexer": "ipython3",
   "version": "3.8.5"
  }
 },
 "nbformat": 4,
 "nbformat_minor": 4
}
