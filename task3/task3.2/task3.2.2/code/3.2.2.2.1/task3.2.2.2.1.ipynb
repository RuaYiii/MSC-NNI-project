{
 "cells": [
  {
   "cell_type": "code",
   "execution_count": 1,
   "metadata": {},
   "outputs": [],
   "source": [
    "import pandas as pd\n",
    "import numpy as np\n",
    "import itertools\n",
    "import xgboost as xgb\n",
    "from sklearn.model_selection import train_test_split"
   ]
  },
  {
   "cell_type": "code",
   "execution_count": 2,
   "metadata": {},
   "outputs": [],
   "source": [
    "train_data = pd.read_csv('./data/sales_train.csv')\n",
    "test_data = pd.read_csv('./data/test.csv')\n",
    "item_data = pd.read_csv('./data/items.csv')"
   ]
  },
  {
   "cell_type": "code",
   "execution_count": 3,
   "metadata": {},
   "outputs": [],
   "source": [
    "#将训练数据中的按天销量改为按月销量\n",
    "train_data = train_data.drop(train_data[train_data.item_price < 0].index | train_data[train_data.item_price >= 100000].index)\n",
    "train_data = train_data.drop(train_data[train_data.item_cnt_day < 0].index | train_data[train_data.item_cnt_day >= 1000].index)\n",
    "train_data1 = pd.pivot_table(train_data, index=['shop_id','item_id','date_block_num'], values=['item_cnt_day'], aggfunc=[np.sum],fill_value=0).reset_index();\n",
    "train_data1.columns = train_data1.columns.droplevel().map(str)\n",
    "train_data1 = train_data1.reset_index(drop=True).rename_axis(None, axis=1)\n",
    "train_data1.columns.values[0]='shop_id';\n",
    "train_data1.columns.values[1]='item_id';\n",
    "train_data1.columns.values[2]='month_id';\n",
    "train_data1.columns.values[3]='item_cnt_month';\n",
    "#由于题目的答案区间在0-20之间，所以我们限定销量在20以内\n",
    "train_data1['item_cnt_month'] = (train_data1['item_cnt_month'].fillna(0).clip(0,20).astype(np.float16))"
   ]
  },
  {
   "cell_type": "code",
   "execution_count": 4,
   "metadata": {},
   "outputs": [],
   "source": [
    "#数据增强\n",
    "#如果商店该月没有销售该商品，则上面的数据中则没有该条数据。\n",
    "#而实际上这时候该商店该月该商品的销售量应该等于0，这样更能体现商品、商店、销量的关系\n",
    "matrix = []\n",
    "cols = ['month_id','shop_id','item_id']\n",
    "for i in range(34):\n",
    "    sales = train_data[train_data.date_block_num==i]\n",
    "    matrix.append(np.array(list(itertools.product([i], sales.shop_id.unique(), sales.item_id.unique())), dtype='int16'))\n",
    "matrix = pd.DataFrame(np.vstack(matrix), columns=cols)\n",
    "matrix['month_id'] = matrix['month_id'].astype(np.int8)\n",
    "matrix['shop_id'] = matrix['shop_id'].astype(np.int8)\n",
    "matrix['item_id'] = matrix['item_id'].astype(np.int16)\n",
    "matrix.sort_values(cols, inplace=True)"
   ]
  },
  {
   "cell_type": "code",
   "execution_count": 5,
   "metadata": {},
   "outputs": [],
   "source": [
    "#合并matrix和train_data1数据\n",
    "train_data1 = pd.merge(matrix, train_data1, on=['shop_id', 'item_id', 'month_id'], how='left')\n",
    "train_data1['item_cnt_month'] = (train_data1['item_cnt_month'].fillna(0).astype(np.float16))\n",
    "train_data1['month_id1'] = train_data1['month_id'] % 12;"
   ]
  },
  {
   "cell_type": "code",
   "execution_count": 6,
   "metadata": {},
   "outputs": [],
   "source": [
    "#获得每个商店物品组合的上月总销量\n",
    "train_data2 = train_data1.copy()\n",
    "train_data2.drop(['month_id1'], axis=1, inplace=True)\n",
    "train_data2.columns.values[3] = 'item_cnt_month1'\n",
    "train_data2['month_id'] = train_data2['month_id'] + 1"
   ]
  },
  {
   "cell_type": "code",
   "execution_count": 7,
   "metadata": {},
   "outputs": [],
   "source": [
    "#获得每个物品上月的平均价格\n",
    "item_price1 = pd.pivot_table(train_data, index=['item_id','date_block_num'], values=['item_price'], aggfunc=[np.mean], fill_value=0).reset_index();\n",
    "item_price1.columns = item_price1.columns.droplevel().map(str)\n",
    "item_price1 = item_price1.reset_index(drop=True).rename_axis(None, axis=1)\n",
    "item_price1.columns.values[0]='item_id';\n",
    "item_price1.columns.values[1]='month_id';\n",
    "item_price1.columns.values[2]='item_mean_price1';\n",
    "item_price1['month_id'] = item_price1['month_id'] + 1;"
   ]
  },
  {
   "cell_type": "code",
   "execution_count": 8,
   "metadata": {},
   "outputs": [],
   "source": [
    "#获得每个商店上月的总销量\n",
    "shop_cnt = pd.pivot_table(train_data1, index=['shop_id','month_id'], values=['item_cnt_month'], aggfunc=[np.sum], fill_value=0).reset_index();\n",
    "shop_cnt.columns = shop_cnt.columns.droplevel().map(str)\n",
    "shop_cnt = shop_cnt.reset_index(drop=True).rename_axis(None, axis=1)\n",
    "shop_cnt.columns.values[0]='shop_id';\n",
    "shop_cnt.columns.values[1]='month_id';\n",
    "shop_cnt.columns.values[2]='shop_cnt_month1';\n",
    "shop_cnt['month_id'] = shop_cnt['month_id'] + 1;"
   ]
  },
  {
   "cell_type": "code",
   "execution_count": 9,
   "metadata": {},
   "outputs": [],
   "source": [
    "#获得每个物品上月的总销量\n",
    "item_cnt = pd.pivot_table(train_data1, index=['item_id','month_id'], values=['item_cnt_month'], aggfunc=[np.sum], fill_value=0).reset_index();\n",
    "item_cnt.columns = item_cnt.columns.droplevel().map(str)\n",
    "item_cnt = item_cnt.reset_index(drop=True).rename_axis(None, axis=1)\n",
    "item_cnt.columns.values[0]='item_id';\n",
    "item_cnt.columns.values[1]='month_id';\n",
    "item_cnt.columns.values[2]='item_total_month1';\n",
    "item_cnt['month_id'] = item_cnt['month_id'] + 1;"
   ]
  },
  {
   "cell_type": "code",
   "execution_count": 10,
   "metadata": {},
   "outputs": [],
   "source": [
    "#合并上述的五个特征到训练集中\n",
    "combined_data = train_data1\n",
    "combined_data = pd.merge(combined_data, train_data2, on = ['shop_id', 'item_id','month_id'], how = 'left')\n",
    "combined_data['item_cnt_month1'].fillna(0, inplace=True)\n",
    "\n",
    "combined_data = pd.merge(combined_data, item_price1, on = ['item_id','month_id'], how = 'left')\n",
    "combined_data['item_mean_price1'].fillna(0, inplace=True)\n",
    "\n",
    "combined_data = pd.merge(combined_data, shop_cnt, on = ['shop_id','month_id'], how = 'left')\n",
    "combined_data['shop_cnt_month1'].fillna(0, inplace=True)\n",
    "\n",
    "combined_data = pd.merge(combined_data, item_cnt, on = ['item_id', 'month_id'], how = 'left')\n",
    "combined_data['item_total_month1'].fillna(0, inplace=True)\n",
    "\n",
    "combined_data = pd.merge(combined_data, item_data, on = ['item_id'], how = 'left')\n",
    "combined_data['item_category_id'].fillna(0, inplace=True)"
   ]
  },
  {
   "cell_type": "code",
   "execution_count": 11,
   "metadata": {},
   "outputs": [
    {
     "name": "stdout",
     "output_type": "stream",
     "text": [
      "            ID  shop_id  item_id\n",
      "0            0        5     5037\n",
      "1            1        5     5320\n",
      "2            2        5     5233\n",
      "3            3        5     5232\n",
      "4            4        5     5268\n",
      "...        ...      ...      ...\n",
      "214195  214195       45    18454\n",
      "214196  214196       45    16188\n",
      "214197  214197       45    15757\n",
      "214198  214198       45    19648\n",
      "214199  214199       45      969\n",
      "\n",
      "[214200 rows x 3 columns]\n"
     ]
    }
   ],
   "source": [
    "print(test_data)"
   ]
  },
  {
   "cell_type": "code",
   "execution_count": 12,
   "metadata": {},
   "outputs": [],
   "source": [
    "#处理测试数据\n",
    "test_data['month_id'] = 34\n",
    "month_id = test_data.month_id\n",
    "test_data.drop(['month_id'], axis=1, inplace=True)\n",
    "test_data.insert(0, 'month_id', month_id)\n",
    "test_data['month_id1'] = 10\n",
    "test_data = pd.merge(test_data, train_data2, on = ['shop_id', 'item_id','month_id'], how = 'left')\n",
    "test_data['item_cnt_month1'].fillna(0, inplace=True)\n",
    "test_data = pd.merge(test_data, item_price1, on = ['item_id','month_id'], how = 'left')\n",
    "test_data['item_mean_price1'].fillna(0, inplace=True)\n",
    "test_data = pd.merge(test_data, shop_cnt, on = ['shop_id','month_id'], how = 'left')\n",
    "test_data['shop_cnt_month1'].fillna(0, inplace=True)\n",
    "test_data = pd.merge(test_data, item_cnt, on = ['item_id', 'month_id'], how = 'left')\n",
    "test_data['item_total_month1'].fillna(0, inplace=True)\n",
    "test_data = pd.merge(test_data, item_data, on = ['item_id'], how = 'left')\n",
    "test_data['item_category_id'].fillna(0, inplace=True)"
   ]
  },
  {
   "cell_type": "code",
   "execution_count": 13,
   "metadata": {},
   "outputs": [],
   "source": [
    "#删去物品名称\\ID\n",
    "combined_data.drop(['item_name'], axis=1, inplace=True)\n",
    "test_data.drop('item_name', axis=1, inplace=True)\n",
    "ID = test_data.ID\n",
    "test_data.drop('ID', axis=1, inplace=True)"
   ]
  },
  {
   "cell_type": "code",
   "execution_count": 14,
   "metadata": {},
   "outputs": [],
   "source": [
    "Train_data = combined_data.drop(['item_cnt_month'], axis=1)\n",
    "Target_data = combined_data['item_cnt_month']"
   ]
  },
  {
   "cell_type": "code",
   "execution_count": 15,
   "metadata": {},
   "outputs": [],
   "source": [
    "X_train, X_test, y_train, y_test = train_test_split(Train_data, Target_data, random_state=42)"
   ]
  },
  {
   "cell_type": "code",
   "execution_count": 16,
   "metadata": {},
   "outputs": [
    {
     "name": "stdout",
     "output_type": "stream",
     "text": [
      "[0]\tvalidation_0-rmse:1.20101\n",
      "[1]\tvalidation_0-rmse:1.16433\n",
      "[2]\tvalidation_0-rmse:1.13262\n",
      "[3]\tvalidation_0-rmse:1.10512\n",
      "[4]\tvalidation_0-rmse:1.08572\n",
      "[5]\tvalidation_0-rmse:1.06640\n",
      "[6]\tvalidation_0-rmse:1.05196\n",
      "[7]\tvalidation_0-rmse:1.03803\n",
      "[8]\tvalidation_0-rmse:1.02847\n",
      "[9]\tvalidation_0-rmse:1.01879\n",
      "[10]\tvalidation_0-rmse:1.01151\n",
      "[11]\tvalidation_0-rmse:1.00441\n",
      "[12]\tvalidation_0-rmse:0.99895\n",
      "[13]\tvalidation_0-rmse:0.99501\n",
      "[14]\tvalidation_0-rmse:0.99124\n",
      "[15]\tvalidation_0-rmse:0.98752\n",
      "[16]\tvalidation_0-rmse:0.98498\n",
      "[17]\tvalidation_0-rmse:0.98199\n",
      "[18]\tvalidation_0-rmse:0.97950\n",
      "[19]\tvalidation_0-rmse:0.97754\n",
      "[20]\tvalidation_0-rmse:0.97560\n",
      "[21]\tvalidation_0-rmse:0.97424\n",
      "[22]\tvalidation_0-rmse:0.97261\n",
      "[23]\tvalidation_0-rmse:0.97096\n",
      "[24]\tvalidation_0-rmse:0.96976\n",
      "[25]\tvalidation_0-rmse:0.96871\n",
      "[26]\tvalidation_0-rmse:0.96773\n",
      "[27]\tvalidation_0-rmse:0.96695\n",
      "[28]\tvalidation_0-rmse:0.96606\n",
      "[29]\tvalidation_0-rmse:0.96516\n",
      "[30]\tvalidation_0-rmse:0.96456\n",
      "[31]\tvalidation_0-rmse:0.96399\n",
      "[32]\tvalidation_0-rmse:0.96314\n",
      "[33]\tvalidation_0-rmse:0.96254\n",
      "[34]\tvalidation_0-rmse:0.96169\n",
      "[35]\tvalidation_0-rmse:0.96019\n",
      "[36]\tvalidation_0-rmse:0.95954\n",
      "[37]\tvalidation_0-rmse:0.95911\n",
      "[38]\tvalidation_0-rmse:0.95842\n",
      "[39]\tvalidation_0-rmse:0.95795\n",
      "[40]\tvalidation_0-rmse:0.95751\n",
      "[41]\tvalidation_0-rmse:0.95710\n",
      "[42]\tvalidation_0-rmse:0.95683\n",
      "[43]\tvalidation_0-rmse:0.95659\n",
      "[44]\tvalidation_0-rmse:0.95622\n",
      "[45]\tvalidation_0-rmse:0.95591\n",
      "[46]\tvalidation_0-rmse:0.95567\n",
      "[47]\tvalidation_0-rmse:0.95542\n",
      "[48]\tvalidation_0-rmse:0.95505\n",
      "[49]\tvalidation_0-rmse:0.95492\n",
      "[50]\tvalidation_0-rmse:0.95396\n",
      "[51]\tvalidation_0-rmse:0.95366\n",
      "[52]\tvalidation_0-rmse:0.95357\n",
      "[53]\tvalidation_0-rmse:0.95338\n",
      "[54]\tvalidation_0-rmse:0.95313\n",
      "[55]\tvalidation_0-rmse:0.95208\n",
      "[56]\tvalidation_0-rmse:0.95179\n",
      "[57]\tvalidation_0-rmse:0.95127\n",
      "[58]\tvalidation_0-rmse:0.95049\n",
      "[59]\tvalidation_0-rmse:0.95014\n",
      "[60]\tvalidation_0-rmse:0.95002\n",
      "[61]\tvalidation_0-rmse:0.94977\n",
      "[62]\tvalidation_0-rmse:0.94952\n",
      "[63]\tvalidation_0-rmse:0.94926\n",
      "[64]\tvalidation_0-rmse:0.94907\n",
      "[65]\tvalidation_0-rmse:0.94876\n",
      "[66]\tvalidation_0-rmse:0.94843\n",
      "[67]\tvalidation_0-rmse:0.94821\n",
      "[68]\tvalidation_0-rmse:0.94799\n",
      "[69]\tvalidation_0-rmse:0.94779\n",
      "[70]\tvalidation_0-rmse:0.94754\n",
      "[71]\tvalidation_0-rmse:0.94711\n",
      "[72]\tvalidation_0-rmse:0.94696\n",
      "[73]\tvalidation_0-rmse:0.94686\n",
      "[74]\tvalidation_0-rmse:0.94667\n",
      "[75]\tvalidation_0-rmse:0.94641\n",
      "[76]\tvalidation_0-rmse:0.94583\n",
      "[77]\tvalidation_0-rmse:0.94570\n",
      "[78]\tvalidation_0-rmse:0.94549\n",
      "[79]\tvalidation_0-rmse:0.94519\n",
      "[80]\tvalidation_0-rmse:0.94510\n",
      "[81]\tvalidation_0-rmse:0.94490\n",
      "[82]\tvalidation_0-rmse:0.94481\n",
      "[83]\tvalidation_0-rmse:0.94468\n",
      "[84]\tvalidation_0-rmse:0.94450\n",
      "[85]\tvalidation_0-rmse:0.94441\n",
      "[86]\tvalidation_0-rmse:0.94423\n",
      "[87]\tvalidation_0-rmse:0.94369\n",
      "[88]\tvalidation_0-rmse:0.94353\n",
      "[89]\tvalidation_0-rmse:0.94319\n",
      "[90]\tvalidation_0-rmse:0.94307\n",
      "[91]\tvalidation_0-rmse:0.94294\n",
      "[92]\tvalidation_0-rmse:0.94244\n",
      "[93]\tvalidation_0-rmse:0.94228\n",
      "[94]\tvalidation_0-rmse:0.94212\n",
      "[95]\tvalidation_0-rmse:0.94202\n",
      "[96]\tvalidation_0-rmse:0.94176\n",
      "[97]\tvalidation_0-rmse:0.94162\n",
      "[98]\tvalidation_0-rmse:0.94143\n",
      "[99]\tvalidation_0-rmse:0.94120\n",
      "[100]\tvalidation_0-rmse:0.94109\n",
      "[101]\tvalidation_0-rmse:0.94097\n",
      "[102]\tvalidation_0-rmse:0.94083\n",
      "[103]\tvalidation_0-rmse:0.94069\n",
      "[104]\tvalidation_0-rmse:0.94055\n",
      "[105]\tvalidation_0-rmse:0.94031\n",
      "[106]\tvalidation_0-rmse:0.94013\n",
      "[107]\tvalidation_0-rmse:0.94006\n",
      "[108]\tvalidation_0-rmse:0.93986\n",
      "[109]\tvalidation_0-rmse:0.93977\n",
      "[110]\tvalidation_0-rmse:0.93946\n",
      "[111]\tvalidation_0-rmse:0.93933\n",
      "[112]\tvalidation_0-rmse:0.93928\n",
      "[113]\tvalidation_0-rmse:0.93918\n",
      "[114]\tvalidation_0-rmse:0.93912\n",
      "[115]\tvalidation_0-rmse:0.93905\n",
      "[116]\tvalidation_0-rmse:0.93884\n",
      "[117]\tvalidation_0-rmse:0.93843\n",
      "[118]\tvalidation_0-rmse:0.93834\n",
      "[119]\tvalidation_0-rmse:0.93820\n",
      "[120]\tvalidation_0-rmse:0.93810\n",
      "[121]\tvalidation_0-rmse:0.93798\n",
      "[122]\tvalidation_0-rmse:0.93751\n",
      "[123]\tvalidation_0-rmse:0.93742\n",
      "[124]\tvalidation_0-rmse:0.93731\n",
      "[125]\tvalidation_0-rmse:0.93719\n",
      "[126]\tvalidation_0-rmse:0.93711\n",
      "[127]\tvalidation_0-rmse:0.93693\n"
     ]
    },
    {
     "data": {
      "text/plain": [
       "XGBRegressor(base_score=0.5, booster='gbtree', colsample_bylevel=1,\n",
       "             colsample_bynode=1, colsample_bytree=1, gamma=0, gpu_id=-1,\n",
       "             importance_type='gain', interaction_constraints='',\n",
       "             learning_rate=0.1, max_delta_step=0, max_depth=5,\n",
       "             min_child_weight=2, missing=nan, monotone_constraints='()',\n",
       "             n_estimators=128, n_jobs=8, num_parallel_tree=1, random_state=0,\n",
       "             reg_alpha=0, reg_lambda=1, scale_pos_weight=1, subsample=1,\n",
       "             tree_method='approx', validate_parameters=1, verbosity=None)"
      ]
     },
     "execution_count": 16,
     "metadata": {},
     "output_type": "execute_result"
    }
   ],
   "source": [
    "#模型训练\n",
    "model = xgb.XGBRegressor(max_depth=5, \n",
    "                         learning_rate=0.1, \n",
    "                         n_estimators=128, \n",
    "                         min_child_weight=2\n",
    "                        );\n",
    "model.fit(X_train, \n",
    "          y_train,\n",
    "          eval_metric='rmse',\n",
    "          eval_set=[(X_test,y_test)]\n",
    "         )"
   ]
  },
  {
   "cell_type": "code",
   "execution_count": 17,
   "metadata": {},
   "outputs": [],
   "source": [
    "submission = model.predict(test_data)\n",
    "submission = submission.clip(0,20)"
   ]
  },
  {
   "cell_type": "code",
   "execution_count": 27,
   "metadata": {},
   "outputs": [],
   "source": [
    "out_df = pd.DataFrame({'ID': ID, 'item_cnt_month': submission})\n",
    "out_df.to_csv('./submission.csv', index=False)"
   ]
  }
 ],
 "metadata": {
  "kernelspec": {
   "display_name": "Python 3",
   "language": "python",
   "name": "python3"
  },
  "language_info": {
   "codemirror_mode": {
    "name": "ipython",
    "version": 3
   },
   "file_extension": ".py",
   "mimetype": "text/x-python",
   "name": "python",
   "nbconvert_exporter": "python",
   "pygments_lexer": "ipython3",
   "version": "3.8.5"
  }
 },
 "nbformat": 4,
 "nbformat_minor": 4
}
