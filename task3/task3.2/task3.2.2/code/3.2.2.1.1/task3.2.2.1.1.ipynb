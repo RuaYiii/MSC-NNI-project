{
 "cells": [
  {
   "cell_type": "code",
   "execution_count": 1,
   "metadata": {},
   "outputs": [],
   "source": [
    "import numpy as np\n",
    "import pandas as pd\n",
    "import torch\n",
    "import torch.nn as nn"
   ]
  },
  {
   "cell_type": "code",
   "execution_count": 2,
   "metadata": {},
   "outputs": [],
   "source": [
    "df = pd.read_csv('./train_data.csv')"
   ]
  },
  {
   "cell_type": "code",
   "execution_count": 3,
   "metadata": {},
   "outputs": [],
   "source": [
    "class Classifiction(nn.Module):\n",
    "    def __init__(self):\n",
    "        super().__init__()\n",
    "        self.net = nn.Sequential(\n",
    "            nn.Linear(18,100),\n",
    "            nn.ReLU(),\n",
    "            nn.Dropout(0.5),\n",
    "            nn.Linear(100,80),\n",
    "            nn.ReLU(),\n",
    "            nn.Dropout(0.5),\n",
    "            nn.Linear(80,60),\n",
    "            nn.ReLU(),\n",
    "            nn.Linear(60,24),\n",
    "            nn.Sigmoid()\n",
    "        )\n",
    "    def forward(self, x):\n",
    "        x = self.net(x)\n",
    "        return x"
   ]
  },
  {
   "cell_type": "code",
   "execution_count": 4,
   "metadata": {},
   "outputs": [],
   "source": [
    "dataset = df.values[:,0:18]\n",
    "target = df.values[:,18:19]\n",
    "target = target.reshape(target.shape[0])\n",
    "target = torch.from_numpy(target).long()\n",
    "dataset = torch.from_numpy(dataset).float()"
   ]
  },
  {
   "cell_type": "code",
   "execution_count": 5,
   "metadata": {},
   "outputs": [],
   "source": [
    "train_data = dataset[0:1000000,:]\n",
    "test_data = dataset[1000000:1130000,:]\n",
    "train_target = target[0:1000000]\n",
    "test_target = target[1000000:1130000]"
   ]
  },
  {
   "cell_type": "code",
   "execution_count": 6,
   "metadata": {},
   "outputs": [],
   "source": [
    "trainset = torch.utils.data.TensorDataset(train_data, train_target)\n",
    "trainloader = torch.utils.data.DataLoader(\n",
    "    dataset = trainset,\n",
    "    batch_size = 10000,\n",
    "    drop_last = True,\n",
    "    shuffle = True\n",
    ")\n",
    "testset = torch.utils.data.TensorDataset(test_data, test_target)\n",
    "testloader = torch.utils.data.DataLoader(\n",
    "    dataset = testset,\n",
    "    batch_size = 10000,\n",
    "    drop_last = True,\n",
    "    shuffle = True\n",
    ")"
   ]
  },
  {
   "cell_type": "code",
   "execution_count": 7,
   "metadata": {},
   "outputs": [],
   "source": [
    "def train(model, train_loader, optimizer, criterion):\n",
    "    model.train()\n",
    "    train_loss = 0\n",
    "    train_acc = 0\n",
    "    for batch_idx, (data, target) in enumerate(train_loader):\n",
    "        optimizer.zero_grad()\n",
    "        output = model(data)\n",
    "        loss = criterion(output, target)\n",
    "        loss.backward()\n",
    "        optimizer.step()\n",
    "        train_loss += loss.item()\n",
    "        output = torch.max(output,1)[1]\n",
    "        train_acc += torch.eq(output, target).sum().item()\n",
    "    return train_loss, train_acc"
   ]
  },
  {
   "cell_type": "code",
   "execution_count": 8,
   "metadata": {},
   "outputs": [],
   "source": [
    "def test(model, test_loader):\n",
    "    model.eval()\n",
    "    test_acc = 0\n",
    "    with torch.no_grad():\n",
    "        for data, target in test_loader:\n",
    "            output = model(data)\n",
    "            output = torch.max(output,1)[1]\n",
    "            test_acc += torch.eq(output, target).sum().item()\n",
    "    return test_acc "
   ]
  },
  {
   "cell_type": "code",
   "execution_count": 9,
   "metadata": {},
   "outputs": [
    {
     "name": "stdout",
     "output_type": "stream",
     "text": [
      "297.476167678833\n",
      "0.291906\n",
      "0.32911538461538464\n",
      "286.1917586326599\n",
      "0.431084\n",
      "0.32911538461538464\n",
      "284.143625497818\n",
      "0.443827\n",
      "0.32911538461538464\n",
      "283.11486768722534\n",
      "0.446987\n",
      "0.32911538461538464\n",
      "282.39137506484985\n",
      "0.448491\n",
      "0.32911538461538464\n",
      "281.74310660362244\n",
      "0.449325\n",
      "0.32911538461538464\n",
      "280.8954770565033\n",
      "0.449764\n",
      "0.32911538461538464\n",
      "280.5708680152893\n",
      "0.449917\n",
      "0.32911538461538464\n",
      "280.4181146621704\n",
      "0.450142\n",
      "0.32911538461538464\n",
      "280.43808221817017\n",
      "0.450323\n",
      "0.32911538461538464\n",
      "280.2769238948822\n",
      "0.450346\n",
      "0.32911538461538464\n",
      "279.11492347717285\n",
      "0.450349\n",
      "0.32911538461538464\n",
      "275.73455119132996\n",
      "0.450271\n",
      "0.32911538461538464\n",
      "275.4878237247467\n",
      "0.450337\n",
      "0.32911538461538464\n",
      "275.5074653625488\n",
      "0.450481\n",
      "0.32911538461538464\n",
      "275.5204019546509\n",
      "0.450549\n",
      "0.32911538461538464\n",
      "275.5150213241577\n",
      "0.450563\n",
      "0.32911538461538464\n",
      "275.47487115859985\n",
      "0.450549\n",
      "0.32911538461538464\n",
      "275.4791216850281\n",
      "0.450605\n",
      "0.32911538461538464\n",
      "275.4493775367737\n",
      "0.450602\n",
      "0.32911538461538464\n"
     ]
    }
   ],
   "source": [
    "net = Classifiction()\n",
    "criterion = nn.CrossEntropyLoss()\n",
    "optimizer = torch.optim.SGD(net.parameters(), 5e-3)\n",
    "\n",
    "for epochs in range(20):\n",
    "    loss = 0\n",
    "    train_acc = 0\n",
    "    test_acc = 0\n",
    "    loss, train_acc = train(net, trainloader, optimizer, criterion)\n",
    "    test_acc = test(net, testloader)\n",
    "    train_acc = train_acc/1000000\n",
    "    test_acc = test_acc/130000\n",
    "    print(loss)\n",
    "    print(train_acc)\n",
    "    print(test_acc)"
   ]
  },
  {
   "cell_type": "code",
   "execution_count": 10,
   "metadata": {},
   "outputs": [],
   "source": [
    "test_data = pd.read_csv('./pre_test.csv')\n",
    "index = test_data.columns.values.tolist()[19:]\n",
    "index = np.array(index)"
   ]
  },
  {
   "cell_type": "code",
   "execution_count": 11,
   "metadata": {},
   "outputs": [],
   "source": [
    "test_data = test_data.values[:,1:19]\n",
    "test_data = torch.from_numpy(test_data).float()"
   ]
  },
  {
   "cell_type": "code",
   "execution_count": 12,
   "metadata": {},
   "outputs": [],
   "source": [
    "net.eval()\n",
    "with torch.no_grad():\n",
    "    out = net(test_data)\n",
    "    preds = np.argsort(out, axis = 1)\n",
    "    preds = np.fliplr(preds)[:, :7]\n",
    "    test_id = np.array(pd.read_csv('./santander-product-recommendation/test_ver2.csv/test_ver2.csv', usecols = ['ncodpers'])['ncodpers'])\n",
    "    final_preds = [\" \".join(list(index[pred])) for pred in preds]\n",
    "    out_df = pd.DataFrame({'ncodpers': test_id, 'added_products': final_preds})\n",
    "    out_df.to_csv('./submission.csv', index = False)"
   ]
  },
  {
   "cell_type": "code",
   "execution_count": null,
   "metadata": {},
   "outputs": [],
   "source": []
  }
 ],
 "metadata": {
  "kernelspec": {
   "display_name": "Python 3",
   "language": "python",
   "name": "python3"
  },
  "language_info": {
   "codemirror_mode": {
    "name": "ipython",
    "version": 3
   },
   "file_extension": ".py",
   "mimetype": "text/x-python",
   "name": "python",
   "nbconvert_exporter": "python",
   "pygments_lexer": "ipython3",
   "version": "3.8.5"
  }
 },
 "nbformat": 4,
 "nbformat_minor": 4
}
